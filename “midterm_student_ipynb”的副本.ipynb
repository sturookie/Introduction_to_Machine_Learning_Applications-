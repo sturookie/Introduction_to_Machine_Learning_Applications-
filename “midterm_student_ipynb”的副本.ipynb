{
  "nbformat": 4,
  "nbformat_minor": 0,
  "metadata": {
    "colab": {
      "name": "“midterm_student.ipynb”的副本",
      "provenance": [],
      "collapsed_sections": [],
      "include_colab_link": true
    },
    "kernelspec": {
      "display_name": "Python 3",
      "language": "python",
      "name": "python3"
    },
    "language_info": {
      "codemirror_mode": {
        "name": "ipython",
        "version": 3
      },
      "file_extension": ".py",
      "mimetype": "text/x-python",
      "name": "python",
      "nbconvert_exporter": "python",
      "pygments_lexer": "ipython3",
      "version": "3.7.6"
    }
  },
  "cells": [
    {
      "cell_type": "markdown",
      "metadata": {
        "id": "view-in-github",
        "colab_type": "text"
      },
      "source": [
        "<a href=\"https://colab.research.google.com/github/sturookie/Introduction_to_Machine_Learning_Applications-/blob/master/%E2%80%9Cmidterm_student_ipynb%E2%80%9D%E7%9A%84%E5%89%AF%E6%9C%AC.ipynb\" target=\"_parent\"><img src=\"https://colab.research.google.com/assets/colab-badge.svg\" alt=\"Open In Colab\"/></a>"
      ]
    },
    {
      "cell_type": "markdown",
      "metadata": {
        "id": "vZfe_BrN2782"
      },
      "source": [
        "## Midterm\n",
        "\n",
        "**Save your working file in Google drive immediately upon starting this assignment.** \n",
        "\n",
        "Before you turn this in, make sure everything runs as expected. First, restart the kernel (in the menu, select Kernel → Restart) and then run all cells (in the menubar, select Cell → Run All). They should run completely without intervention.\n",
        "\n",
        "**You may find it useful to go through the notebooks from the course materials when doing these exercises.**\n",
        "\n",
        "**If you receive assistance from anyone it will be considered an ethical violation and referred to associate dean.**"
      ]
    },
    {
      "cell_type": "code",
      "metadata": {
        "id": "5d5Yxna9bSIN",
        "outputId": "f1f9da68-ec57-4d48-bcc7-d163b4355b3c",
        "colab": {
          "base_uri": "https://localhost:8080/",
          "height": 595
        }
      },
      "source": [
        "files = \"https://www.dropbox.com/s/ouavrnjy5sa2ele/data.zip\" \n",
        "!wget $files && unzip -o data.zip"
      ],
      "execution_count": 1,
      "outputs": [
        {
          "output_type": "stream",
          "text": [
            "--2020-10-19 12:43:12--  https://www.dropbox.com/s/ouavrnjy5sa2ele/data.zip\n",
            "Resolving www.dropbox.com (www.dropbox.com)... 162.125.1.1, 2620:100:6016:1::a27d:101\n",
            "Connecting to www.dropbox.com (www.dropbox.com)|162.125.1.1|:443... connected.\n",
            "HTTP request sent, awaiting response... 301 Moved Permanently\n",
            "Location: /s/raw/ouavrnjy5sa2ele/data.zip [following]\n",
            "--2020-10-19 12:43:12--  https://www.dropbox.com/s/raw/ouavrnjy5sa2ele/data.zip\n",
            "Reusing existing connection to www.dropbox.com:443.\n",
            "HTTP request sent, awaiting response... 302 Found\n",
            "Location: https://uc61f585b4adc24e6f86ddc68fb4.dl.dropboxusercontent.com/cd/0/inline/BBh-nGSEsBj6QJUHUg_-y6jY9G9PfuLTdKIpYsROt0p9zvaz5VsQkkUFRv2Tc_-bQz-sp09WypOo1Ga-8LTd6QfCNoF2dq-q3VRVkTZZrnzlyw/file# [following]\n",
            "--2020-10-19 12:43:12--  https://uc61f585b4adc24e6f86ddc68fb4.dl.dropboxusercontent.com/cd/0/inline/BBh-nGSEsBj6QJUHUg_-y6jY9G9PfuLTdKIpYsROt0p9zvaz5VsQkkUFRv2Tc_-bQz-sp09WypOo1Ga-8LTd6QfCNoF2dq-q3VRVkTZZrnzlyw/file\n",
            "Resolving uc61f585b4adc24e6f86ddc68fb4.dl.dropboxusercontent.com (uc61f585b4adc24e6f86ddc68fb4.dl.dropboxusercontent.com)... 162.125.1.15, 2620:100:6016:15::a27d:10f\n",
            "Connecting to uc61f585b4adc24e6f86ddc68fb4.dl.dropboxusercontent.com (uc61f585b4adc24e6f86ddc68fb4.dl.dropboxusercontent.com)|162.125.1.15|:443... connected.\n",
            "HTTP request sent, awaiting response... 302 Found\n",
            "Location: /cd/0/inline2/BBi4J7x3nCkelIfKjP0OHPtkOT4r0PHyrCCwzgQq7NnFYy8Mo5FCQywfgGZYbd2NB3wRXXSor1-jHbnWZ3uZXdY_mDzERNdTfqm7hXbu2z45pLW-NaST02qtwHy-ktaUyaHgvFcigLMzhs3KpM05C3PNVEFxdD-wWb3T5CICpzx4WPb7VlrR5jLMUBZR9cfvUFjwWIXxvwNW2ZAMBwww7nrnEjJQ3RDtgR_nikGqfR7L_QHfnbQSNrHolrPhkdJSGmlcb7IMU6cdQz7uHBM2d8zy_oQ3bvjD-2V5on3B9anAcrBfUCcPNuKT48PFSqsH7FreaPez-GwJStCAFl272CpG/file [following]\n",
            "--2020-10-19 12:43:13--  https://uc61f585b4adc24e6f86ddc68fb4.dl.dropboxusercontent.com/cd/0/inline2/BBi4J7x3nCkelIfKjP0OHPtkOT4r0PHyrCCwzgQq7NnFYy8Mo5FCQywfgGZYbd2NB3wRXXSor1-jHbnWZ3uZXdY_mDzERNdTfqm7hXbu2z45pLW-NaST02qtwHy-ktaUyaHgvFcigLMzhs3KpM05C3PNVEFxdD-wWb3T5CICpzx4WPb7VlrR5jLMUBZR9cfvUFjwWIXxvwNW2ZAMBwww7nrnEjJQ3RDtgR_nikGqfR7L_QHfnbQSNrHolrPhkdJSGmlcb7IMU6cdQz7uHBM2d8zy_oQ3bvjD-2V5on3B9anAcrBfUCcPNuKT48PFSqsH7FreaPez-GwJStCAFl272CpG/file\n",
            "Reusing existing connection to uc61f585b4adc24e6f86ddc68fb4.dl.dropboxusercontent.com:443.\n",
            "HTTP request sent, awaiting response... 200 OK\n",
            "Length: 427096 (417K) [application/zip]\n",
            "Saving to: ‘data.zip’\n",
            "\n",
            "data.zip            100%[===================>] 417.09K  1.91MB/s    in 0.2s    \n",
            "\n",
            "2020-10-19 12:43:14 (1.91 MB/s) - ‘data.zip’ saved [427096/427096]\n",
            "\n",
            "Archive:  data.zip\n",
            "  inflating: midterm_train_part4.csv  \n",
            "  inflating: midterm_test_part3.csv  \n",
            "  inflating: midterm_test_part4.csv  \n",
            "  inflating: midterm_train_part3.csv  \n",
            "  inflating: midterm_part2.csv       \n",
            "  inflating: midterm_part1.csv       \n"
          ],
          "name": "stdout"
        }
      ]
    },
    {
      "cell_type": "code",
      "metadata": {
        "id": "KPcmkJ2VbaE0",
        "outputId": "0a3f826e-0322-4e4a-f6cd-fc50f218a58f",
        "colab": {
          "base_uri": "https://localhost:8080/",
          "height": 71
        }
      },
      "source": [
        "!ls"
      ],
      "execution_count": 2,
      "outputs": [
        {
          "output_type": "stream",
          "text": [
            "data.zip\t   midterm_test_part3.csv   midterm_train_part4.csv\n",
            "midterm_part1.csv  midterm_test_part4.csv   sample_data\n",
            "midterm_part2.csv  midterm_train_part3.csv\n"
          ],
          "name": "stdout"
        }
      ]
    },
    {
      "cell_type": "code",
      "metadata": {
        "id": "DlqW9xLjyRhV",
        "outputId": "4bddd49b-52ca-460d-af54-f8013da3bed2",
        "colab": {
          "base_uri": "https://localhost:8080/",
          "height": 419
        }
      },
      "source": [
        "import pandas as pd\n",
        "df  = pd.read_csv(\"midterm_part1.csv\")\n",
        "df"
      ],
      "execution_count": 3,
      "outputs": [
        {
          "output_type": "execute_result",
          "data": {
            "text/html": [
              "<div>\n",
              "<style scoped>\n",
              "    .dataframe tbody tr th:only-of-type {\n",
              "        vertical-align: middle;\n",
              "    }\n",
              "\n",
              "    .dataframe tbody tr th {\n",
              "        vertical-align: top;\n",
              "    }\n",
              "\n",
              "    .dataframe thead th {\n",
              "        text-align: right;\n",
              "    }\n",
              "</style>\n",
              "<table border=\"1\" class=\"dataframe\">\n",
              "  <thead>\n",
              "    <tr style=\"text-align: right;\">\n",
              "      <th></th>\n",
              "      <th>demo</th>\n",
              "      <th>demo1</th>\n",
              "      <th>demo2</th>\n",
              "      <th>demo3</th>\n",
              "      <th>demo4</th>\n",
              "      <th>demo5</th>\n",
              "      <th>demo6</th>\n",
              "      <th>demo7</th>\n",
              "      <th>demo8</th>\n",
              "      <th>demo9</th>\n",
              "      <th>dv0</th>\n",
              "      <th>dv1</th>\n",
              "      <th>dv2</th>\n",
              "      <th>dv3</th>\n",
              "      <th>dv4</th>\n",
              "      <th>dv5</th>\n",
              "      <th>dv6</th>\n",
              "      <th>dv7</th>\n",
              "      <th>dv8</th>\n",
              "      <th>dv9</th>\n",
              "      <th>class</th>\n",
              "      <th>reg_target</th>\n",
              "    </tr>\n",
              "  </thead>\n",
              "  <tbody>\n",
              "    <tr>\n",
              "      <th>0</th>\n",
              "      <td>0</td>\n",
              "      <td>1</td>\n",
              "      <td>1</td>\n",
              "      <td>1</td>\n",
              "      <td>1</td>\n",
              "      <td>1</td>\n",
              "      <td>0</td>\n",
              "      <td>1</td>\n",
              "      <td>1</td>\n",
              "      <td>0</td>\n",
              "      <td>1</td>\n",
              "      <td>1</td>\n",
              "      <td>1</td>\n",
              "      <td>1</td>\n",
              "      <td>1</td>\n",
              "      <td>0</td>\n",
              "      <td>1</td>\n",
              "      <td>0</td>\n",
              "      <td>0</td>\n",
              "      <td>1</td>\n",
              "      <td>0.0</td>\n",
              "      <td>453.521369</td>\n",
              "    </tr>\n",
              "    <tr>\n",
              "      <th>1</th>\n",
              "      <td>0</td>\n",
              "      <td>1</td>\n",
              "      <td>1</td>\n",
              "      <td>0</td>\n",
              "      <td>1</td>\n",
              "      <td>1</td>\n",
              "      <td>0</td>\n",
              "      <td>1</td>\n",
              "      <td>1</td>\n",
              "      <td>0</td>\n",
              "      <td>1</td>\n",
              "      <td>1</td>\n",
              "      <td>1</td>\n",
              "      <td>1</td>\n",
              "      <td>1</td>\n",
              "      <td>1</td>\n",
              "      <td>1</td>\n",
              "      <td>0</td>\n",
              "      <td>1</td>\n",
              "      <td>0</td>\n",
              "      <td>0.0</td>\n",
              "      <td>151.919191</td>\n",
              "    </tr>\n",
              "    <tr>\n",
              "      <th>2</th>\n",
              "      <td>0</td>\n",
              "      <td>0</td>\n",
              "      <td>1</td>\n",
              "      <td>0</td>\n",
              "      <td>1</td>\n",
              "      <td>1</td>\n",
              "      <td>0</td>\n",
              "      <td>0</td>\n",
              "      <td>1</td>\n",
              "      <td>1</td>\n",
              "      <td>0</td>\n",
              "      <td>1</td>\n",
              "      <td>1</td>\n",
              "      <td>0</td>\n",
              "      <td>1</td>\n",
              "      <td>0</td>\n",
              "      <td>1</td>\n",
              "      <td>0</td>\n",
              "      <td>1</td>\n",
              "      <td>1</td>\n",
              "      <td>0.0</td>\n",
              "      <td>-141.666991</td>\n",
              "    </tr>\n",
              "    <tr>\n",
              "      <th>3</th>\n",
              "      <td>0</td>\n",
              "      <td>1</td>\n",
              "      <td>1</td>\n",
              "      <td>0</td>\n",
              "      <td>1</td>\n",
              "      <td>1</td>\n",
              "      <td>0</td>\n",
              "      <td>1</td>\n",
              "      <td>1</td>\n",
              "      <td>1</td>\n",
              "      <td>1</td>\n",
              "      <td>1</td>\n",
              "      <td>0</td>\n",
              "      <td>0</td>\n",
              "      <td>0</td>\n",
              "      <td>1</td>\n",
              "      <td>1</td>\n",
              "      <td>1</td>\n",
              "      <td>0</td>\n",
              "      <td>0</td>\n",
              "      <td>0.0</td>\n",
              "      <td>-227.245474</td>\n",
              "    </tr>\n",
              "    <tr>\n",
              "      <th>4</th>\n",
              "      <td>1</td>\n",
              "      <td>0</td>\n",
              "      <td>1</td>\n",
              "      <td>1</td>\n",
              "      <td>0</td>\n",
              "      <td>0</td>\n",
              "      <td>0</td>\n",
              "      <td>1</td>\n",
              "      <td>1</td>\n",
              "      <td>1</td>\n",
              "      <td>0</td>\n",
              "      <td>0</td>\n",
              "      <td>0</td>\n",
              "      <td>1</td>\n",
              "      <td>0</td>\n",
              "      <td>0</td>\n",
              "      <td>0</td>\n",
              "      <td>1</td>\n",
              "      <td>0</td>\n",
              "      <td>0</td>\n",
              "      <td>0.0</td>\n",
              "      <td>-130.752790</td>\n",
              "    </tr>\n",
              "    <tr>\n",
              "      <th>...</th>\n",
              "      <td>...</td>\n",
              "      <td>...</td>\n",
              "      <td>...</td>\n",
              "      <td>...</td>\n",
              "      <td>...</td>\n",
              "      <td>...</td>\n",
              "      <td>...</td>\n",
              "      <td>...</td>\n",
              "      <td>...</td>\n",
              "      <td>...</td>\n",
              "      <td>...</td>\n",
              "      <td>...</td>\n",
              "      <td>...</td>\n",
              "      <td>...</td>\n",
              "      <td>...</td>\n",
              "      <td>...</td>\n",
              "      <td>...</td>\n",
              "      <td>...</td>\n",
              "      <td>...</td>\n",
              "      <td>...</td>\n",
              "      <td>...</td>\n",
              "      <td>...</td>\n",
              "    </tr>\n",
              "    <tr>\n",
              "      <th>9995</th>\n",
              "      <td>0</td>\n",
              "      <td>0</td>\n",
              "      <td>0</td>\n",
              "      <td>0</td>\n",
              "      <td>0</td>\n",
              "      <td>0</td>\n",
              "      <td>0</td>\n",
              "      <td>0</td>\n",
              "      <td>1</td>\n",
              "      <td>1</td>\n",
              "      <td>1</td>\n",
              "      <td>1</td>\n",
              "      <td>0</td>\n",
              "      <td>1</td>\n",
              "      <td>0</td>\n",
              "      <td>1</td>\n",
              "      <td>1</td>\n",
              "      <td>0</td>\n",
              "      <td>1</td>\n",
              "      <td>1</td>\n",
              "      <td>9.0</td>\n",
              "      <td>57.045191</td>\n",
              "    </tr>\n",
              "    <tr>\n",
              "      <th>9996</th>\n",
              "      <td>1</td>\n",
              "      <td>0</td>\n",
              "      <td>0</td>\n",
              "      <td>1</td>\n",
              "      <td>0</td>\n",
              "      <td>0</td>\n",
              "      <td>0</td>\n",
              "      <td>1</td>\n",
              "      <td>1</td>\n",
              "      <td>0</td>\n",
              "      <td>0</td>\n",
              "      <td>0</td>\n",
              "      <td>1</td>\n",
              "      <td>0</td>\n",
              "      <td>0</td>\n",
              "      <td>0</td>\n",
              "      <td>1</td>\n",
              "      <td>0</td>\n",
              "      <td>1</td>\n",
              "      <td>0</td>\n",
              "      <td>9.0</td>\n",
              "      <td>20.359107</td>\n",
              "    </tr>\n",
              "    <tr>\n",
              "      <th>9997</th>\n",
              "      <td>1</td>\n",
              "      <td>1</td>\n",
              "      <td>0</td>\n",
              "      <td>1</td>\n",
              "      <td>0</td>\n",
              "      <td>0</td>\n",
              "      <td>0</td>\n",
              "      <td>0</td>\n",
              "      <td>1</td>\n",
              "      <td>1</td>\n",
              "      <td>0</td>\n",
              "      <td>0</td>\n",
              "      <td>0</td>\n",
              "      <td>0</td>\n",
              "      <td>0</td>\n",
              "      <td>0</td>\n",
              "      <td>1</td>\n",
              "      <td>0</td>\n",
              "      <td>1</td>\n",
              "      <td>1</td>\n",
              "      <td>9.0</td>\n",
              "      <td>-171.269242</td>\n",
              "    </tr>\n",
              "    <tr>\n",
              "      <th>9998</th>\n",
              "      <td>0</td>\n",
              "      <td>0</td>\n",
              "      <td>0</td>\n",
              "      <td>1</td>\n",
              "      <td>0</td>\n",
              "      <td>0</td>\n",
              "      <td>0</td>\n",
              "      <td>0</td>\n",
              "      <td>1</td>\n",
              "      <td>1</td>\n",
              "      <td>0</td>\n",
              "      <td>1</td>\n",
              "      <td>0</td>\n",
              "      <td>1</td>\n",
              "      <td>1</td>\n",
              "      <td>1</td>\n",
              "      <td>1</td>\n",
              "      <td>0</td>\n",
              "      <td>0</td>\n",
              "      <td>1</td>\n",
              "      <td>9.0</td>\n",
              "      <td>125.539606</td>\n",
              "    </tr>\n",
              "    <tr>\n",
              "      <th>9999</th>\n",
              "      <td>1</td>\n",
              "      <td>0</td>\n",
              "      <td>0</td>\n",
              "      <td>1</td>\n",
              "      <td>0</td>\n",
              "      <td>0</td>\n",
              "      <td>0</td>\n",
              "      <td>1</td>\n",
              "      <td>1</td>\n",
              "      <td>1</td>\n",
              "      <td>0</td>\n",
              "      <td>0</td>\n",
              "      <td>0</td>\n",
              "      <td>1</td>\n",
              "      <td>0</td>\n",
              "      <td>0</td>\n",
              "      <td>0</td>\n",
              "      <td>1</td>\n",
              "      <td>1</td>\n",
              "      <td>0</td>\n",
              "      <td>9.0</td>\n",
              "      <td>-206.742398</td>\n",
              "    </tr>\n",
              "  </tbody>\n",
              "</table>\n",
              "<p>10000 rows × 22 columns</p>\n",
              "</div>"
            ],
            "text/plain": [
              "      demo  demo1  demo2  demo3  demo4  ...  dv7  dv8  dv9  class  reg_target\n",
              "0        0      1      1      1      1  ...    0    0    1    0.0  453.521369\n",
              "1        0      1      1      0      1  ...    0    1    0    0.0  151.919191\n",
              "2        0      0      1      0      1  ...    0    1    1    0.0 -141.666991\n",
              "3        0      1      1      0      1  ...    1    0    0    0.0 -227.245474\n",
              "4        1      0      1      1      0  ...    1    0    0    0.0 -130.752790\n",
              "...    ...    ...    ...    ...    ...  ...  ...  ...  ...    ...         ...\n",
              "9995     0      0      0      0      0  ...    0    1    1    9.0   57.045191\n",
              "9996     1      0      0      1      0  ...    0    1    0    9.0   20.359107\n",
              "9997     1      1      0      1      0  ...    0    1    1    9.0 -171.269242\n",
              "9998     0      0      0      1      0  ...    0    0    1    9.0  125.539606\n",
              "9999     1      0      0      1      0  ...    1    1    0    9.0 -206.742398\n",
              "\n",
              "[10000 rows x 22 columns]"
            ]
          },
          "metadata": {
            "tags": []
          },
          "execution_count": 3
        }
      ]
    },
    {
      "cell_type": "markdown",
      "metadata": {
        "id": "THYiqAhmbSIU"
      },
      "source": [
        "## Statistical Functions and Calculations - Part 1\n",
        "\n",
        "1a. (3pts) Set the `reg_target_mean` variable value equal to the mean `reg_target` column of the df dataframe. \n",
        "\n",
        "1b. (3pts) Set the `class_num` variable value equal to the number of different values in the `class` column of the df dataframe. (Nan should count as a different value.)\n",
        "\n",
        "1c. (3pts) Set the `class_most_freq` variable value equal to the most frequent class in the `class` column of the df dataframe. Make it an integer.\n",
        "\n",
        "1d. (3pts) Set the `class_na` variable value equal to the number of missing values in the `class` column of the df dataframe.\n"
      ]
    },
    {
      "cell_type": "code",
      "metadata": {
        "id": "IWIMTqVHbSIU"
      },
      "source": [
        "#Answer (add additional cells as necessary)\n",
        "reg_target = df['reg_target']\n",
        "reg_target_mean = reg_target.mean()"
      ],
      "execution_count": 7,
      "outputs": []
    },
    {
      "cell_type": "code",
      "metadata": {
        "id": "YtKQDEf9bSIY"
      },
      "source": [
        "df.value_counts(['class'])\n",
        "#As can be seen from the statistical results, the data in the class column is 0-9, and there are altogether 10 different data, so plus NA is 11\n",
        "class_num = 11"
      ],
      "execution_count": 22,
      "outputs": []
    },
    {
      "cell_type": "code",
      "metadata": {
        "id": "i_O4i484bSIb"
      },
      "source": [
        "df.value_counts(['class'])\n",
        "#As can be seen from the statistical results, the most frequent value is 1, which occurs 1012 times\n",
        "class_most_freq = 1"
      ],
      "execution_count": 23,
      "outputs": []
    },
    {
      "cell_type": "code",
      "metadata": {
        "id": "6ayKqcvebSId"
      },
      "source": [
        "class_na = df['class'].isnull().sum()"
      ],
      "execution_count": 24,
      "outputs": []
    },
    {
      "cell_type": "markdown",
      "metadata": {
        "id": "LGSTaD_fbSIg"
      },
      "source": [
        "## Fill NA Strategies - Part 1 Continued \n",
        "\n",
        "1e-f. (6pts) Create a dataframe `df2` from a copy of `df` which includes only those rows in which the `class` variable is not null.\n",
        "\n",
        "\n",
        "1f-g. (6pts) Create a dataframe `df3` from a copy of `df` which sets all missing values of `class` to `-1` (integer).  \n",
        "\n",
        "After filling the NA values, convert the `class` column to an integer type. \n"
      ]
    },
    {
      "cell_type": "code",
      "metadata": {
        "id": "_3Ac8rT6bSIh"
      },
      "source": [
        "#Answer (add additional cells as necessary)\n",
        "df2 = df\n",
        "df2 = df2.dropna(subset = ['class'])"
      ],
      "execution_count": 47,
      "outputs": []
    },
    {
      "cell_type": "code",
      "metadata": {
        "id": "-S0UgkthbSIk"
      },
      "source": [
        "df3 = df\n",
        "df3.loc[df3['class'].isnull(),\"class\"] = -1"
      ],
      "execution_count": 29,
      "outputs": []
    },
    {
      "cell_type": "code",
      "metadata": {
        "id": "EzGKUAAhbSIm"
      },
      "source": [
        "df['class'] = df['class'].astype(\"int\")"
      ],
      "execution_count": 34,
      "outputs": []
    },
    {
      "cell_type": "code",
      "metadata": {
        "id": "fAafuQb4bSIo"
      },
      "source": [
        ""
      ],
      "execution_count": null,
      "outputs": []
    },
    {
      "cell_type": "markdown",
      "metadata": {
        "id": "1Jjas4BsbSIr"
      },
      "source": [
        "## Train Test Split - Part 2 \n",
        "\n",
        "2a. (3pts) Create a Pandas Series `y_class` equal to an `int` of the `class` variable from the `dfp2` dataframe.\n",
        "\n",
        "2b. (3pts) Create a Pandas Dataframe `X` equal to all other variables (i.e., all variables other than `reg_target` and `class` from the `dfp2` dataframe.  \n",
        "\n",
        "2c-e. (9pts) Use `X` and `y_class` to perform a train test split creating `train_X`,  `test_X`, `train_y`, `test_y` using the following specifications:\n",
        "\n",
        "- Use 75% for the train set, 25% for the test set. \n",
        "- Use the value `99` for the Random State.\n",
        "- Use stratified sampling.\n",
        "\n",
        "2f. Recode `train_y` from a multiclass classification problem to a binary classification problem, such that `train_y_new` = 0 if the value of train_y is 0-4 and `train_y_new` =1 if train_y = 5-9.\n",
        "\n",
        "2f. Recode `test_y` from a multiclass classification problem to a binary classification problem, such that `test_y_new` = 0 if the value of test_y is 0-4 and `test_y_new` =1 if test_y = 5-9.\n"
      ]
    },
    {
      "cell_type": "code",
      "metadata": {
        "id": "KSR2a8H7bSIr",
        "outputId": "2588450e-214c-4b64-8fa2-ed75facd3a14",
        "colab": {
          "base_uri": "https://localhost:8080/",
          "height": 419
        }
      },
      "source": [
        "#Load Part 2 Data\n",
        "dfp2  = pd.read_csv(\"midterm_part2.csv\")\n",
        "dfp2"
      ],
      "execution_count": 48,
      "outputs": [
        {
          "output_type": "execute_result",
          "data": {
            "text/html": [
              "<div>\n",
              "<style scoped>\n",
              "    .dataframe tbody tr th:only-of-type {\n",
              "        vertical-align: middle;\n",
              "    }\n",
              "\n",
              "    .dataframe tbody tr th {\n",
              "        vertical-align: top;\n",
              "    }\n",
              "\n",
              "    .dataframe thead th {\n",
              "        text-align: right;\n",
              "    }\n",
              "</style>\n",
              "<table border=\"1\" class=\"dataframe\">\n",
              "  <thead>\n",
              "    <tr style=\"text-align: right;\">\n",
              "      <th></th>\n",
              "      <th>demo</th>\n",
              "      <th>demo1</th>\n",
              "      <th>demo2</th>\n",
              "      <th>demo3</th>\n",
              "      <th>demo4</th>\n",
              "      <th>demo5</th>\n",
              "      <th>demo6</th>\n",
              "      <th>demo7</th>\n",
              "      <th>demo8</th>\n",
              "      <th>demo9</th>\n",
              "      <th>dv0</th>\n",
              "      <th>dv1</th>\n",
              "      <th>dv2</th>\n",
              "      <th>dv3</th>\n",
              "      <th>dv4</th>\n",
              "      <th>dv5</th>\n",
              "      <th>dv6</th>\n",
              "      <th>dv7</th>\n",
              "      <th>dv8</th>\n",
              "      <th>dv9</th>\n",
              "      <th>class</th>\n",
              "      <th>reg_target</th>\n",
              "    </tr>\n",
              "  </thead>\n",
              "  <tbody>\n",
              "    <tr>\n",
              "      <th>0</th>\n",
              "      <td>0</td>\n",
              "      <td>1</td>\n",
              "      <td>1</td>\n",
              "      <td>1</td>\n",
              "      <td>1</td>\n",
              "      <td>1</td>\n",
              "      <td>0</td>\n",
              "      <td>1</td>\n",
              "      <td>1</td>\n",
              "      <td>0</td>\n",
              "      <td>1</td>\n",
              "      <td>1</td>\n",
              "      <td>1</td>\n",
              "      <td>1</td>\n",
              "      <td>1</td>\n",
              "      <td>0</td>\n",
              "      <td>1</td>\n",
              "      <td>0</td>\n",
              "      <td>0</td>\n",
              "      <td>1</td>\n",
              "      <td>0.0</td>\n",
              "      <td>453.521369</td>\n",
              "    </tr>\n",
              "    <tr>\n",
              "      <th>1</th>\n",
              "      <td>0</td>\n",
              "      <td>1</td>\n",
              "      <td>1</td>\n",
              "      <td>0</td>\n",
              "      <td>1</td>\n",
              "      <td>1</td>\n",
              "      <td>0</td>\n",
              "      <td>1</td>\n",
              "      <td>1</td>\n",
              "      <td>0</td>\n",
              "      <td>1</td>\n",
              "      <td>1</td>\n",
              "      <td>1</td>\n",
              "      <td>1</td>\n",
              "      <td>1</td>\n",
              "      <td>1</td>\n",
              "      <td>1</td>\n",
              "      <td>0</td>\n",
              "      <td>1</td>\n",
              "      <td>0</td>\n",
              "      <td>0.0</td>\n",
              "      <td>151.919191</td>\n",
              "    </tr>\n",
              "    <tr>\n",
              "      <th>2</th>\n",
              "      <td>0</td>\n",
              "      <td>0</td>\n",
              "      <td>1</td>\n",
              "      <td>0</td>\n",
              "      <td>1</td>\n",
              "      <td>1</td>\n",
              "      <td>0</td>\n",
              "      <td>0</td>\n",
              "      <td>1</td>\n",
              "      <td>1</td>\n",
              "      <td>0</td>\n",
              "      <td>1</td>\n",
              "      <td>1</td>\n",
              "      <td>0</td>\n",
              "      <td>1</td>\n",
              "      <td>0</td>\n",
              "      <td>1</td>\n",
              "      <td>0</td>\n",
              "      <td>1</td>\n",
              "      <td>1</td>\n",
              "      <td>0.0</td>\n",
              "      <td>-141.666991</td>\n",
              "    </tr>\n",
              "    <tr>\n",
              "      <th>3</th>\n",
              "      <td>0</td>\n",
              "      <td>1</td>\n",
              "      <td>1</td>\n",
              "      <td>0</td>\n",
              "      <td>1</td>\n",
              "      <td>1</td>\n",
              "      <td>0</td>\n",
              "      <td>1</td>\n",
              "      <td>1</td>\n",
              "      <td>1</td>\n",
              "      <td>1</td>\n",
              "      <td>1</td>\n",
              "      <td>0</td>\n",
              "      <td>0</td>\n",
              "      <td>0</td>\n",
              "      <td>1</td>\n",
              "      <td>1</td>\n",
              "      <td>1</td>\n",
              "      <td>0</td>\n",
              "      <td>0</td>\n",
              "      <td>0.0</td>\n",
              "      <td>-227.245474</td>\n",
              "    </tr>\n",
              "    <tr>\n",
              "      <th>4</th>\n",
              "      <td>1</td>\n",
              "      <td>0</td>\n",
              "      <td>1</td>\n",
              "      <td>1</td>\n",
              "      <td>0</td>\n",
              "      <td>0</td>\n",
              "      <td>0</td>\n",
              "      <td>1</td>\n",
              "      <td>1</td>\n",
              "      <td>1</td>\n",
              "      <td>0</td>\n",
              "      <td>0</td>\n",
              "      <td>0</td>\n",
              "      <td>1</td>\n",
              "      <td>0</td>\n",
              "      <td>0</td>\n",
              "      <td>0</td>\n",
              "      <td>1</td>\n",
              "      <td>0</td>\n",
              "      <td>0</td>\n",
              "      <td>0.0</td>\n",
              "      <td>-130.752790</td>\n",
              "    </tr>\n",
              "    <tr>\n",
              "      <th>...</th>\n",
              "      <td>...</td>\n",
              "      <td>...</td>\n",
              "      <td>...</td>\n",
              "      <td>...</td>\n",
              "      <td>...</td>\n",
              "      <td>...</td>\n",
              "      <td>...</td>\n",
              "      <td>...</td>\n",
              "      <td>...</td>\n",
              "      <td>...</td>\n",
              "      <td>...</td>\n",
              "      <td>...</td>\n",
              "      <td>...</td>\n",
              "      <td>...</td>\n",
              "      <td>...</td>\n",
              "      <td>...</td>\n",
              "      <td>...</td>\n",
              "      <td>...</td>\n",
              "      <td>...</td>\n",
              "      <td>...</td>\n",
              "      <td>...</td>\n",
              "      <td>...</td>\n",
              "    </tr>\n",
              "    <tr>\n",
              "      <th>9961</th>\n",
              "      <td>0</td>\n",
              "      <td>0</td>\n",
              "      <td>0</td>\n",
              "      <td>0</td>\n",
              "      <td>0</td>\n",
              "      <td>0</td>\n",
              "      <td>0</td>\n",
              "      <td>0</td>\n",
              "      <td>1</td>\n",
              "      <td>1</td>\n",
              "      <td>1</td>\n",
              "      <td>1</td>\n",
              "      <td>0</td>\n",
              "      <td>1</td>\n",
              "      <td>0</td>\n",
              "      <td>1</td>\n",
              "      <td>1</td>\n",
              "      <td>0</td>\n",
              "      <td>1</td>\n",
              "      <td>1</td>\n",
              "      <td>9.0</td>\n",
              "      <td>57.045191</td>\n",
              "    </tr>\n",
              "    <tr>\n",
              "      <th>9962</th>\n",
              "      <td>1</td>\n",
              "      <td>0</td>\n",
              "      <td>0</td>\n",
              "      <td>1</td>\n",
              "      <td>0</td>\n",
              "      <td>0</td>\n",
              "      <td>0</td>\n",
              "      <td>1</td>\n",
              "      <td>1</td>\n",
              "      <td>0</td>\n",
              "      <td>0</td>\n",
              "      <td>0</td>\n",
              "      <td>1</td>\n",
              "      <td>0</td>\n",
              "      <td>0</td>\n",
              "      <td>0</td>\n",
              "      <td>1</td>\n",
              "      <td>0</td>\n",
              "      <td>1</td>\n",
              "      <td>0</td>\n",
              "      <td>9.0</td>\n",
              "      <td>20.359107</td>\n",
              "    </tr>\n",
              "    <tr>\n",
              "      <th>9963</th>\n",
              "      <td>1</td>\n",
              "      <td>1</td>\n",
              "      <td>0</td>\n",
              "      <td>1</td>\n",
              "      <td>0</td>\n",
              "      <td>0</td>\n",
              "      <td>0</td>\n",
              "      <td>0</td>\n",
              "      <td>1</td>\n",
              "      <td>1</td>\n",
              "      <td>0</td>\n",
              "      <td>0</td>\n",
              "      <td>0</td>\n",
              "      <td>0</td>\n",
              "      <td>0</td>\n",
              "      <td>0</td>\n",
              "      <td>1</td>\n",
              "      <td>0</td>\n",
              "      <td>1</td>\n",
              "      <td>1</td>\n",
              "      <td>9.0</td>\n",
              "      <td>-171.269242</td>\n",
              "    </tr>\n",
              "    <tr>\n",
              "      <th>9964</th>\n",
              "      <td>0</td>\n",
              "      <td>0</td>\n",
              "      <td>0</td>\n",
              "      <td>1</td>\n",
              "      <td>0</td>\n",
              "      <td>0</td>\n",
              "      <td>0</td>\n",
              "      <td>0</td>\n",
              "      <td>1</td>\n",
              "      <td>1</td>\n",
              "      <td>0</td>\n",
              "      <td>1</td>\n",
              "      <td>0</td>\n",
              "      <td>1</td>\n",
              "      <td>1</td>\n",
              "      <td>1</td>\n",
              "      <td>1</td>\n",
              "      <td>0</td>\n",
              "      <td>0</td>\n",
              "      <td>1</td>\n",
              "      <td>9.0</td>\n",
              "      <td>125.539606</td>\n",
              "    </tr>\n",
              "    <tr>\n",
              "      <th>9965</th>\n",
              "      <td>1</td>\n",
              "      <td>0</td>\n",
              "      <td>0</td>\n",
              "      <td>1</td>\n",
              "      <td>0</td>\n",
              "      <td>0</td>\n",
              "      <td>0</td>\n",
              "      <td>1</td>\n",
              "      <td>1</td>\n",
              "      <td>1</td>\n",
              "      <td>0</td>\n",
              "      <td>0</td>\n",
              "      <td>0</td>\n",
              "      <td>1</td>\n",
              "      <td>0</td>\n",
              "      <td>0</td>\n",
              "      <td>0</td>\n",
              "      <td>1</td>\n",
              "      <td>1</td>\n",
              "      <td>0</td>\n",
              "      <td>9.0</td>\n",
              "      <td>-206.742398</td>\n",
              "    </tr>\n",
              "  </tbody>\n",
              "</table>\n",
              "<p>9966 rows × 22 columns</p>\n",
              "</div>"
            ],
            "text/plain": [
              "      demo  demo1  demo2  demo3  demo4  ...  dv7  dv8  dv9  class  reg_target\n",
              "0        0      1      1      1      1  ...    0    0    1    0.0  453.521369\n",
              "1        0      1      1      0      1  ...    0    1    0    0.0  151.919191\n",
              "2        0      0      1      0      1  ...    0    1    1    0.0 -141.666991\n",
              "3        0      1      1      0      1  ...    1    0    0    0.0 -227.245474\n",
              "4        1      0      1      1      0  ...    1    0    0    0.0 -130.752790\n",
              "...    ...    ...    ...    ...    ...  ...  ...  ...  ...    ...         ...\n",
              "9961     0      0      0      0      0  ...    0    1    1    9.0   57.045191\n",
              "9962     1      0      0      1      0  ...    0    1    0    9.0   20.359107\n",
              "9963     1      1      0      1      0  ...    0    1    1    9.0 -171.269242\n",
              "9964     0      0      0      1      0  ...    0    0    1    9.0  125.539606\n",
              "9965     1      0      0      1      0  ...    1    1    0    9.0 -206.742398\n",
              "\n",
              "[9966 rows x 22 columns]"
            ]
          },
          "metadata": {
            "tags": []
          },
          "execution_count": 48
        }
      ]
    },
    {
      "cell_type": "code",
      "metadata": {
        "id": "_YFjf9lEbSIt"
      },
      "source": [
        "#Answer (add additional cells as necessary)\n",
        "y_class = dfp2['class'].astype('int')"
      ],
      "execution_count": 52,
      "outputs": []
    },
    {
      "cell_type": "code",
      "metadata": {
        "id": "KirEXORbbSIx"
      },
      "source": [
        "X = dfp2[['demo', 'demo1', 'demo2',\t'demo3', 'demo4', 'demo5', 'demo6', 'demo7', 'demo8', 'demo9', 'dv0', 'dv1', 'dv2', 'dv3', 'dv4', 'dv5', 'dv6', 'dv7', 'dv8', 'dv9']]"
      ],
      "execution_count": 56,
      "outputs": []
    },
    {
      "cell_type": "code",
      "metadata": {
        "id": "SCxI7T1NbSI1"
      },
      "source": [
        "from sklearn.model_selection import train_test_split\n",
        "\n",
        "train_X, test_X, train_y, test_y = train_test_split(X, y_class, test_size=0.25, random_state=99, stratify=y_class)"
      ],
      "execution_count": 123,
      "outputs": []
    },
    {
      "cell_type": "code",
      "metadata": {
        "id": "MIt7TG0GbSI5"
      },
      "source": [
        "test_y_new = test_y.copy()\n",
        "train_y_new = train_y.copy()\n",
        "train_y_new[train_y <=4] = 0\n",
        "train_y_new[train_y >=5] = 1\n",
        "test_y_new[test_y <=4] = 0\n",
        "test_y_new[test_y >=5] = 1"
      ],
      "execution_count": 129,
      "outputs": []
    },
    {
      "cell_type": "markdown",
      "metadata": {
        "id": "1rX8YKAq0vfJ"
      },
      "source": [
        "## Classification Models - Part 3\n",
        "\n",
        "Start with the `dfp3_train` and `df_class_test` dataframes.  Don't use the output of the train test split from part2. \n",
        "\n",
        "Create the values for `dfp3_X_train`, `dfp3_y_train`, `dfp3_X_test`, `dfp3_y_test` from the given training and test set `dfp3_train` and `dfp3_test`. \n",
        "\n",
        "Use a [naive bayes](https://scikit-learn.org/stable/modules/generated/sklearn.naive_bayes.GaussianNB.html#sklearn.naive_bayes.GaussianNB) classifier for both models below. \n",
        "\n",
        "In the first model (model1), use all of the variables that start with `demo` or `dv` predict the class variable. Create the following variables:\n",
        "\n",
        "3a. (6pts) `model1_train_accuracy`  Accuracy for model 1 in the train set.\n",
        "\n",
        "3b. (6pts) `model1_test_accuracy`   Accuracy for model 1 in the test set.\n",
        "\n",
        "3c. (6pts) `model1_test_ROC`        Area Under the Receiver Operating Characteristic Curve (ROC AUC) for model 1 \n",
        "\n"
      ]
    },
    {
      "cell_type": "code",
      "metadata": {
        "id": "ENLw2wcFbSI8"
      },
      "source": [
        "#Load Part 3 Data\n",
        "dfp3_train  = pd.read_csv('midterm_train_part3.csv')\n",
        "dfp3_test   = pd.read_csv('midterm_test_part3.csv')"
      ],
      "execution_count": 88,
      "outputs": []
    },
    {
      "cell_type": "code",
      "metadata": {
        "id": "DbV5ppQCbjHf"
      },
      "source": [
        "dfp3_train"
      ],
      "execution_count": null,
      "outputs": []
    },
    {
      "cell_type": "code",
      "metadata": {
        "id": "k7qJyaTdbjur"
      },
      "source": [
        "dfp3_test\n",
        "df_class_test = dfp3_train['class'].astype('int')"
      ],
      "execution_count": 89,
      "outputs": []
    },
    {
      "cell_type": "code",
      "metadata": {
        "id": "5XqRflTlbSI-"
      },
      "source": [
        "#uncomment andUselect out the X and Y variables as approprate.\n",
        "from sklearn.model_selection import train_test_split\n",
        "\n",
        "dfp3_X_train, dfp3_X_test, dfp3_y_train, dfp3_y_test = train_test_split(dfp3_train, df_class_test, test_size=0.25, random_state=99)"
      ],
      "execution_count": 90,
      "outputs": []
    },
    {
      "cell_type": "code",
      "metadata": {
        "id": "me0iXREvbSJA"
      },
      "source": [
        "#Answer (add additional cells as necessary)\n",
        "from sklearn.naive_bayes import GaussianNB\n",
        "from sklearn import metrics\n",
        "\n",
        "bayes_model = GaussianNB()\n",
        "bayes_model.fit(dfp3_X_train,dfp3_y_train)\n",
        "bayes_train = bayes_model.predict(dfp3_X_train)\n",
        "bayes_test = bayes_model.predict(dfp3_X_test)\n",
        "model1_train_accuracy = metrics.accuracy_score(dfp3_y_train,bayes_train)\n",
        "model1_test_accuracy = metrics.accuracy_score(dfp3_y_test,bayes_test)"
      ],
      "execution_count": 91,
      "outputs": []
    },
    {
      "cell_type": "code",
      "metadata": {
        "id": "xLjRnR-xbSJC"
      },
      "source": [
        ""
      ],
      "execution_count": null,
      "outputs": []
    },
    {
      "cell_type": "code",
      "metadata": {
        "id": "_O1ypQzXbSJF"
      },
      "source": [
        ""
      ],
      "execution_count": null,
      "outputs": []
    },
    {
      "cell_type": "code",
      "metadata": {
        "id": "9IjsNavjbSJH"
      },
      "source": [
        ""
      ],
      "execution_count": null,
      "outputs": []
    },
    {
      "cell_type": "markdown",
      "metadata": {
        "id": "G2iTL3asbSJK"
      },
      "source": [
        "## Regression Models -  Models - Part 4\n",
        "\n",
        "For part 4 use `dfp4_train` and `dfp4_test` with `reg_target` as the dependent variable and all other variables as the independent variables. \n",
        "\n",
        "Create the values for `dfp4_X_train`, `dfp4_y_train`, `dfp4_X_test`, `dfp4_y_test` from the given training and test set `dfp4_train` and `dfp4_test`.  \n",
        "\n",
        "For the regression model we want to compare the performance of a linear regression (model1) with a RandomForest Regression (model2).\n",
        "\n",
        "In the first model (model1), use all of the variables except the `reg_target` and use linear regression. Create the following variables:\n",
        "\n",
        "4a. (3pts) `model1_train_r2`  R-squared for model 1 in the train set.\n",
        "\n",
        "4b. (3pts) `model1_test_r2`   R-squared for model 1 in the test set.\n",
        "\n",
        "4c. (3pts) `model1_test_msele`  Mean squared logarithmic error for model 1 in the test set. \n",
        "\n",
        "\n",
        "\n",
        "In the second model (model2), use all of the variables except the `reg_target` and use RandomForest regression. Create the following variables:\n",
        "\n",
        "4d. (3pts) `model2_train_r2`  R-squared for model 2 in the train set.\n",
        "\n",
        "4e. (3pts) `model2_test_r2`   R-squared for model 2 in the test set.\n",
        "\n",
        "4f. (3pts) `model2_test_msele`  Mean squared logarithmic error for model 2 in the test set. \n",
        "\n"
      ]
    },
    {
      "cell_type": "code",
      "metadata": {
        "id": "kEDJILOfbSJK"
      },
      "source": [
        "#Load Part 3 Data\n",
        "dfp4_train  = pd.read_csv('midterm_train_part4.csv')\n",
        "dfp4_test   = pd.read_csv('midterm_test_part4.csv')\n",
        "dfp4_train"
      ],
      "execution_count": null,
      "outputs": []
    },
    {
      "cell_type": "code",
      "metadata": {
        "id": "8cSTe7nFb5Wu"
      },
      "source": [
        "dfp4_test"
      ],
      "execution_count": null,
      "outputs": []
    },
    {
      "cell_type": "code",
      "metadata": {
        "id": "2PYKO6Z5bSJM"
      },
      "source": [
        "#Uncomment and Select out the X and Y variables as approprate. Don't reuse train_X, test_X, train_y, test_y.\n",
        "#dfp4_X_train=  \n",
        "#dfp4_y_train= \n",
        "#dfp4_X_test= \n",
        "#dfp4_y_test= "
      ],
      "execution_count": null,
      "outputs": []
    },
    {
      "cell_type": "code",
      "metadata": {
        "id": "_EhVTOhqbSJP"
      },
      "source": [
        "#Answer (add additional cells as necessary)\n"
      ],
      "execution_count": null,
      "outputs": []
    },
    {
      "cell_type": "code",
      "metadata": {
        "id": "D5cf2jVQbSJS"
      },
      "source": [
        ""
      ],
      "execution_count": null,
      "outputs": []
    },
    {
      "cell_type": "code",
      "metadata": {
        "id": "b9rud5CTbSJW"
      },
      "source": [
        ""
      ],
      "execution_count": null,
      "outputs": []
    },
    {
      "cell_type": "code",
      "metadata": {
        "id": "5pqt7IobbSJZ"
      },
      "source": [
        ""
      ],
      "execution_count": null,
      "outputs": []
    },
    {
      "cell_type": "markdown",
      "metadata": {
        "id": "81MFVxX9bSJb"
      },
      "source": [
        "## Validate Variables\n",
        "There aren't tests, but this last check wil help you find if you have defined all expected variables (and don't have any accidental misspellings)."
      ]
    },
    {
      "cell_type": "code",
      "metadata": {
        "id": "8yVYvy4ZbSJb"
      },
      "source": [
        "expected_answers=['class_most_freq','reg_target_mean','class_num','class_na', 'df2','df3', \\\n",
        "                 'y_class', 'train_X', 'test_X', 'train_y', 'test_y', \\\n",
        "                'dfp3_X_train', 'dfp3_y_train', 'dfp3_X_test', 'dfp3_y_test', \\\n",
        "                  'dfp4_X_train', 'dfp4_y_train', 'dfp4_X_test', 'dfp4_y_test', \\\n",
        "                 'model1_train_accuracy','model1_test_accuracy','model1_test_ROC',  \\\n",
        "                 'model1_train_r2','model1_test_r2','model1_test_msele',\\\n",
        "                 'model2_train_r2','model2_test_r2','model2_test_msele']\n",
        "\n",
        "for x in expected_answers:\n",
        "        if x in globals():\n",
        "            print('The value for', x, 'is defined. ' )\n",
        "        else:\n",
        "            print('WARNING: The value for', x, 'is not defined. Check it out.') \n"
      ],
      "execution_count": null,
      "outputs": []
    }
  ]
}