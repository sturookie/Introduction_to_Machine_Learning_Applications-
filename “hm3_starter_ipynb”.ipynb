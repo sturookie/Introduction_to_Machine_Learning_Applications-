{
  "nbformat": 4,
  "nbformat_minor": 0,
  "metadata": {
    "anaconda-cloud": {},
    "celltoolbar": "Slideshow",
    "colab": {
      "name": "“hm3_starter.ipynb”的副本",
      "provenance": [],
      "collapsed_sections": [],
      "include_colab_link": true
    },
    "kernelspec": {
      "display_name": "Python 3",
      "language": "python",
      "name": "python3"
    },
    "language_info": {
      "codemirror_mode": {
        "name": "ipython",
        "version": 3
      },
      "file_extension": ".py",
      "mimetype": "text/x-python",
      "name": "python",
      "nbconvert_exporter": "python",
      "pygments_lexer": "ipython3",
      "version": "3.7.6"
    }
  },
  "cells": [
    {
      "cell_type": "markdown",
      "metadata": {
        "id": "view-in-github",
        "colab_type": "text"
      },
      "source": [
        "<a href=\"https://colab.research.google.com/github/sturookie/Introduction_to_Machine_Learning_Applications-/blob/master/%E2%80%9Chm3_starter_ipynb%E2%80%9D.ipynb\" target=\"_parent\"><img src=\"https://colab.research.google.com/assets/colab-badge.svg\" alt=\"Open In Colab\"/></a>"
      ]
    },
    {
      "cell_type": "markdown",
      "metadata": {
        "colab_type": "text",
        "id": "hSXsCkclbiAj"
      },
      "source": [
        "## Introduction to Python Exercises\n",
        "\n",
        "![](https://github.com/rpi-techfundamentals/hm-01-starter/blob/master/notsaved.png?raw=1)\n",
        "\n",
        "**Save your working file in Google drive so that all changes will be saved as you work. MAKE SURE that your final version is saved to GitHub.** \n",
        "\n",
        "Before you turn this in, make sure everything runs as expected. First, restart the kernel (in the menu, select Kernel → Restart) and then run all cells (in the menubar, select Cell → Run All).  You can speak with others regarding the assignment but all work must be your own. \n",
        "\n",
        "\n",
        "### This is a 30 point assignment.\n",
        "\n",
        "**You may find it useful to go through the notebooks from the course materials when doing these exercises.**\n",
        "\n",
        "**If you attempt to fake passing the tests you will receive a 0 on the assignment and it will be considered an ethical violation.**\n"
      ]
    },
    {
      "cell_type": "code",
      "metadata": {
        "colab_type": "code",
        "id": "8TCzCgMRbiAk",
        "colab": {
          "base_uri": "https://localhost:8080/",
          "height": 1000
        },
        "outputId": "ca26e941-1ea9-4d13-b2d5-4cb8e5656fb8"
      },
      "source": [
        "files = \"https://github.com/rpi-techfundamentals/hm-03-starter/raw/master/files.zip\"\n",
        "!pip install otter-grader && wget $files && unzip -o files.zip"
      ],
      "execution_count": 160,
      "outputs": [
        {
          "output_type": "stream",
          "text": [
            "Requirement already satisfied: otter-grader in /usr/local/lib/python3.6/dist-packages (1.1.2)\n",
            "Requirement already satisfied: dill in /usr/local/lib/python3.6/dist-packages (from otter-grader) (0.3.2)\n",
            "Requirement already satisfied: nbconvert<6.0.0 in /usr/local/lib/python3.6/dist-packages (from otter-grader) (5.6.1)\n",
            "Requirement already satisfied: tornado in /usr/local/lib/python3.6/dist-packages (from otter-grader) (5.1.1)\n",
            "Requirement already satisfied: setuptools in /usr/local/lib/python3.6/dist-packages (from otter-grader) (50.3.0)\n",
            "Requirement already satisfied: jinja2 in /usr/local/lib/python3.6/dist-packages (from otter-grader) (2.11.2)\n",
            "Requirement already satisfied: docker in /usr/local/lib/python3.6/dist-packages (from otter-grader) (4.3.1)\n",
            "Requirement already satisfied: pyyaml in /usr/local/lib/python3.6/dist-packages (from otter-grader) (3.13)\n",
            "Requirement already satisfied: nbformat in /usr/local/lib/python3.6/dist-packages (from otter-grader) (5.0.7)\n",
            "Requirement already satisfied: pandas in /usr/local/lib/python3.6/dist-packages (from otter-grader) (1.0.5)\n",
            "Requirement already satisfied: pdfkit in /usr/local/lib/python3.6/dist-packages (from otter-grader) (0.6.1)\n",
            "Requirement already satisfied: ipython in /usr/local/lib/python3.6/dist-packages (from otter-grader) (5.5.0)\n",
            "Requirement already satisfied: PyPDF2 in /usr/local/lib/python3.6/dist-packages (from otter-grader) (1.26.0)\n",
            "Requirement already satisfied: tqdm in /usr/local/lib/python3.6/dist-packages (from otter-grader) (4.41.1)\n",
            "Requirement already satisfied: bleach in /usr/local/lib/python3.6/dist-packages (from nbconvert<6.0.0->otter-grader) (3.1.5)\n",
            "Requirement already satisfied: testpath in /usr/local/lib/python3.6/dist-packages (from nbconvert<6.0.0->otter-grader) (0.4.4)\n",
            "Requirement already satisfied: traitlets>=4.2 in /usr/local/lib/python3.6/dist-packages (from nbconvert<6.0.0->otter-grader) (4.3.3)\n",
            "Requirement already satisfied: jupyter-core in /usr/local/lib/python3.6/dist-packages (from nbconvert<6.0.0->otter-grader) (4.6.3)\n",
            "Requirement already satisfied: defusedxml in /usr/local/lib/python3.6/dist-packages (from nbconvert<6.0.0->otter-grader) (0.6.0)\n",
            "Requirement already satisfied: entrypoints>=0.2.2 in /usr/local/lib/python3.6/dist-packages (from nbconvert<6.0.0->otter-grader) (0.3)\n",
            "Requirement already satisfied: mistune<2,>=0.8.1 in /usr/local/lib/python3.6/dist-packages (from nbconvert<6.0.0->otter-grader) (0.8.4)\n",
            "Requirement already satisfied: pandocfilters>=1.4.1 in /usr/local/lib/python3.6/dist-packages (from nbconvert<6.0.0->otter-grader) (1.4.2)\n",
            "Requirement already satisfied: pygments in /usr/local/lib/python3.6/dist-packages (from nbconvert<6.0.0->otter-grader) (2.6.1)\n",
            "Requirement already satisfied: MarkupSafe>=0.23 in /usr/local/lib/python3.6/dist-packages (from jinja2->otter-grader) (1.1.1)\n",
            "Requirement already satisfied: websocket-client>=0.32.0 in /usr/local/lib/python3.6/dist-packages (from docker->otter-grader) (0.57.0)\n",
            "Requirement already satisfied: requests!=2.18.0,>=2.14.2 in /usr/local/lib/python3.6/dist-packages (from docker->otter-grader) (2.23.0)\n",
            "Requirement already satisfied: six>=1.4.0 in /usr/local/lib/python3.6/dist-packages (from docker->otter-grader) (1.15.0)\n",
            "Requirement already satisfied: jsonschema!=2.5.0,>=2.4 in /usr/local/lib/python3.6/dist-packages (from nbformat->otter-grader) (2.6.0)\n",
            "Requirement already satisfied: ipython-genutils in /usr/local/lib/python3.6/dist-packages (from nbformat->otter-grader) (0.2.0)\n",
            "Requirement already satisfied: numpy>=1.13.3 in /usr/local/lib/python3.6/dist-packages (from pandas->otter-grader) (1.18.5)\n",
            "Requirement already satisfied: pytz>=2017.2 in /usr/local/lib/python3.6/dist-packages (from pandas->otter-grader) (2018.9)\n",
            "Requirement already satisfied: python-dateutil>=2.6.1 in /usr/local/lib/python3.6/dist-packages (from pandas->otter-grader) (2.8.1)\n",
            "Requirement already satisfied: pexpect; sys_platform != \"win32\" in /usr/local/lib/python3.6/dist-packages (from ipython->otter-grader) (4.8.0)\n",
            "Requirement already satisfied: pickleshare in /usr/local/lib/python3.6/dist-packages (from ipython->otter-grader) (0.7.5)\n",
            "Requirement already satisfied: simplegeneric>0.8 in /usr/local/lib/python3.6/dist-packages (from ipython->otter-grader) (0.8.1)\n",
            "Requirement already satisfied: prompt-toolkit<2.0.0,>=1.0.4 in /usr/local/lib/python3.6/dist-packages (from ipython->otter-grader) (1.0.18)\n",
            "Requirement already satisfied: decorator in /usr/local/lib/python3.6/dist-packages (from ipython->otter-grader) (4.4.2)\n",
            "Requirement already satisfied: webencodings in /usr/local/lib/python3.6/dist-packages (from bleach->nbconvert<6.0.0->otter-grader) (0.5.1)\n",
            "Requirement already satisfied: packaging in /usr/local/lib/python3.6/dist-packages (from bleach->nbconvert<6.0.0->otter-grader) (20.4)\n",
            "Requirement already satisfied: certifi>=2017.4.17 in /usr/local/lib/python3.6/dist-packages (from requests!=2.18.0,>=2.14.2->docker->otter-grader) (2020.6.20)\n",
            "Requirement already satisfied: chardet<4,>=3.0.2 in /usr/local/lib/python3.6/dist-packages (from requests!=2.18.0,>=2.14.2->docker->otter-grader) (3.0.4)\n",
            "Requirement already satisfied: urllib3!=1.25.0,!=1.25.1,<1.26,>=1.21.1 in /usr/local/lib/python3.6/dist-packages (from requests!=2.18.0,>=2.14.2->docker->otter-grader) (1.24.3)\n",
            "Requirement already satisfied: idna<3,>=2.5 in /usr/local/lib/python3.6/dist-packages (from requests!=2.18.0,>=2.14.2->docker->otter-grader) (2.10)\n",
            "Requirement already satisfied: ptyprocess>=0.5 in /usr/local/lib/python3.6/dist-packages (from pexpect; sys_platform != \"win32\"->ipython->otter-grader) (0.6.0)\n",
            "Requirement already satisfied: wcwidth in /usr/local/lib/python3.6/dist-packages (from prompt-toolkit<2.0.0,>=1.0.4->ipython->otter-grader) (0.2.5)\n",
            "Requirement already satisfied: pyparsing>=2.0.2 in /usr/local/lib/python3.6/dist-packages (from packaging->bleach->nbconvert<6.0.0->otter-grader) (2.4.7)\n",
            "--2020-09-21 10:34:19--  https://github.com/rpi-techfundamentals/hm-03-starter/raw/master/files.zip\n",
            "Resolving github.com (github.com)... 140.82.121.4\n",
            "Connecting to github.com (github.com)|140.82.121.4|:443... connected.\n",
            "HTTP request sent, awaiting response... 302 Found\n",
            "Location: https://raw.githubusercontent.com/rpi-techfundamentals/hm-03-starter/master/files.zip [following]\n",
            "--2020-09-21 10:34:19--  https://raw.githubusercontent.com/rpi-techfundamentals/hm-03-starter/master/files.zip\n",
            "Resolving raw.githubusercontent.com (raw.githubusercontent.com)... 151.101.0.133, 151.101.64.133, 151.101.128.133, ...\n",
            "Connecting to raw.githubusercontent.com (raw.githubusercontent.com)|151.101.0.133|:443... connected.\n",
            "HTTP request sent, awaiting response... 200 OK\n",
            "Length: 45953 (45K) [application/zip]\n",
            "Saving to: ‘files.zip.3’\n",
            "\n",
            "files.zip.3         100%[===================>]  44.88K  --.-KB/s    in 0.007s  \n",
            "\n",
            "2020-09-21 10:34:20 (5.99 MB/s) - ‘files.zip.3’ saved [45953/45953]\n",
            "\n",
            "Archive:  files.zip\n",
            "  inflating: input/test.csv          \n",
            "  inflating: input/iris.csv          \n",
            "  inflating: input/train.csv         \n",
            "  inflating: tests/q01.py            \n",
            "  inflating: tests/q11.py            \n",
            "  inflating: tests/q05.py            \n",
            " extracting: tests/__init__.py       \n",
            "  inflating: tests/q14.py            \n",
            "  inflating: tests/q10.py            \n",
            "  inflating: tests/qname.py          \n",
            "  inflating: tests/q07.py            \n",
            "  inflating: tests/q03.py            \n",
            "  inflating: tests/q13.py            \n",
            "  inflating: tests/q02.py            \n",
            "  inflating: tests/q12.py            \n",
            "  inflating: tests/q06.py            \n",
            "  inflating: tests/.ipynb_checkpoints/q09-checkpoint.py  \n",
            "  inflating: tests/.ipynb_checkpoints/q13-checkpoint.py  \n",
            "  inflating: tests/.ipynb_checkpoints/q14-checkpoint.py  \n",
            "  inflating: tests/.ipynb_checkpoints/q03-checkpoint.py  \n",
            "  inflating: tests/.ipynb_checkpoints/q07-checkpoint.py  \n",
            "  inflating: tests/.ipynb_checkpoints/q10-checkpoint.py  \n",
            "  inflating: tests/.ipynb_checkpoints/q11-checkpoint.py  \n",
            "  inflating: tests/.ipynb_checkpoints/q06-checkpoint.py  \n",
            "  inflating: tests/.ipynb_checkpoints/q02-checkpoint.py  \n",
            "  inflating: tests/.ipynb_checkpoints/q05-checkpoint.py  \n",
            "  inflating: tests/.ipynb_checkpoints/q12-checkpoint.py  \n",
            "  inflating: tests/.ipynb_checkpoints/q01-checkpoint.py  \n",
            "  inflating: tests/.ipynb_checkpoints/q08-checkpoint.py  \n",
            "  inflating: tests/q09.py            \n",
            "  inflating: tests/q08.py            \n",
            "  inflating: hm.ok                   \n"
          ],
          "name": "stdout"
        }
      ]
    },
    {
      "cell_type": "code",
      "metadata": {
        "colab_type": "code",
        "id": "moTUYN9VbiAm",
        "colab": {}
      },
      "source": [
        "#Run this. It initiates autograding. \n",
        "import otter\n",
        "grader = otter.Notebook()"
      ],
      "execution_count": 161,
      "outputs": []
    },
    {
      "cell_type": "markdown",
      "metadata": {
        "colab_type": "text",
        "id": "mAC6v0SQbiAp"
      },
      "source": [
        "## Exercises - For and If and Functions\n",
        "\n",
        "(1). Create a function `list_step` that accepts 3 variables (`start`, `stop`, `step`).  The function returns a list starting at `start`, ending at `stop`, and with a step of `step`.\n",
        "\n",
        "For example:\n",
        "\n",
        "`list_step(5, 19, 2)`\n",
        "\n",
        "Should return: \n",
        "\n",
        "`[5, 7, 9, 11, 13, 15, 17]`\n"
      ]
    },
    {
      "cell_type": "code",
      "metadata": {
        "colab_type": "code",
        "id": "QM-6RxE3biAp",
        "colab": {}
      },
      "source": [
        "#Answer question 1 here.\n",
        "def list_step(start,stop,step):\n",
        "    list_num=[]\n",
        "    for num in range(start,stop,step):\n",
        "        list_num.append(num)\n",
        "    return list_num\n"
      ],
      "execution_count": 162,
      "outputs": []
    },
    {
      "cell_type": "code",
      "metadata": {
        "colab_type": "code",
        "id": "ZyGkeyIabiAs",
        "colab": {
          "base_uri": "https://localhost:8080/",
          "height": 46
        },
        "outputId": "938b9fd7-28b7-4567-dac8-c7eaf81f8b40"
      },
      "source": [
        "list1= list_step(5, 19, 2) #include this code\n",
        "grader.check('q01')"
      ],
      "execution_count": 163,
      "outputs": [
        {
          "output_type": "execute_result",
          "data": {
            "text/html": [
              "\n",
              "    \n",
              "    \n",
              "        <p>All tests passed!</p>\n",
              "    \n",
              "    "
            ],
            "text/plain": [
              "\n",
              "    All tests passed!\n",
              "    "
            ]
          },
          "metadata": {
            "tags": []
          },
          "execution_count": 163
        }
      ]
    },
    {
      "cell_type": "markdown",
      "metadata": {
        "colab_type": "text",
        "id": "2MlJHdBIbiAv"
      },
      "source": [
        "(2). Create a function `list_divisible` that accepts 3 variables (`start`, `stop`, `divisible`).  Use a for loop to create a list of all numbers from `start` to `stop` which are divisible by `divisible`.\n",
        "\n",
        "For example:\n",
        "\n",
        "`list_divisible(1, 50, 7)`\n",
        "\n",
        "Should return: \n",
        "\n",
        "`[7, 14, 21, 28, 35, 42, 49]`"
      ]
    },
    {
      "cell_type": "code",
      "metadata": {
        "colab_type": "code",
        "id": "5_MwSa5lbiAv",
        "colab": {}
      },
      "source": [
        "#Answer question 2 here.\n",
        "def list_divisible(start,stop,divisible):\n",
        "    list_num=[]\n",
        "    for num in range(start,stop):\n",
        "        if num%divisible==0:\n",
        "            list_num.append(num)\n",
        "    return list_num"
      ],
      "execution_count": 164,
      "outputs": []
    },
    {
      "cell_type": "code",
      "metadata": {
        "colab_type": "code",
        "id": "8jttsZuUbiAy",
        "colab": {
          "base_uri": "https://localhost:8080/",
          "height": 46
        },
        "outputId": "2c470dee-a1f7-4be5-cdfa-c062508d706a"
      },
      "source": [
        "list2= list_divisible(1, 50, 7) #include this code\n",
        "grader.check('q02')\n"
      ],
      "execution_count": 165,
      "outputs": [
        {
          "output_type": "execute_result",
          "data": {
            "text/html": [
              "\n",
              "    \n",
              "    \n",
              "        <p>All tests passed!</p>\n",
              "    \n",
              "    "
            ],
            "text/plain": [
              "\n",
              "    All tests passed!\n",
              "    "
            ]
          },
          "metadata": {
            "tags": []
          },
          "execution_count": 165
        }
      ]
    },
    {
      "cell_type": "markdown",
      "metadata": {
        "colab_type": "text",
        "id": "Uq-Ez73bbiA0"
      },
      "source": [
        "(3). Create a function `list_divisible_not` that accepts 4 variables (`start`, `stop`, `divisible`, `not_divisible`).  Use a for loop to create a list of all numbers from `start` to `stop` which are divisible by `divisible` but not divisible by `not_divisible`.\n",
        "\n",
        "For example:\n",
        "\n",
        "`list_divisible_not(1, 100, 4, 3)`\n",
        "\n",
        "Should return: \n",
        "\n",
        "`[4, 8, 16, 20, 28, 32, 40, 44, 52, 56, 64, 68, 76, 80, 88, 92]`\n"
      ]
    },
    {
      "cell_type": "code",
      "metadata": {
        "colab_type": "code",
        "id": "v3gDy1YrbiA1",
        "colab": {}
      },
      "source": [
        "#Answer question 3 here.\n",
        "def list_divisible_not(start,stop,divisible,not_divisible):\n",
        "    list_num=[]\n",
        "    for num in range(start,stop):\n",
        "        if num%divisible==0 and num%not_divisible!=0:\n",
        "            list_num.append(num)\n",
        "    return list_num"
      ],
      "execution_count": 166,
      "outputs": []
    },
    {
      "cell_type": "code",
      "metadata": {
        "colab_type": "code",
        "id": "8SbK9vjgbiA3",
        "colab": {
          "base_uri": "https://localhost:8080/",
          "height": 46
        },
        "outputId": "723d4b38-6633-4c8c-d3c9-ac591a11330e"
      },
      "source": [
        "list3= list_divisible_not(1, 100, 4, 3) #include this code\n",
        "grader.check('q03')"
      ],
      "execution_count": 167,
      "outputs": [
        {
          "output_type": "execute_result",
          "data": {
            "text/html": [
              "\n",
              "    \n",
              "    \n",
              "        <p>All tests passed!</p>\n",
              "    \n",
              "    "
            ],
            "text/plain": [
              "\n",
              "    All tests passed!\n",
              "    "
            ]
          },
          "metadata": {
            "tags": []
          },
          "execution_count": 167
        }
      ]
    },
    {
      "cell_type": "markdown",
      "metadata": {
        "colab_type": "text",
        "id": "NxikYaAUbiA5"
      },
      "source": [
        "## Exercises-Titanic\n",
        "\n",
        "The following exercises will use the titanic data from Kaggle.  I've included it in the input folder just like Kaggle. "
      ]
    },
    {
      "cell_type": "code",
      "metadata": {
        "colab_type": "code",
        "id": "eXeFgxJ5biA7",
        "colab": {}
      },
      "source": [
        "import numpy as np \n",
        "import pandas as pd \n",
        "\n",
        "# Input data files are available in the \"../input/\" directory.\n",
        "# Let's input them into a Pandas DataFrame\n",
        "train = pd.read_csv(\"./input/train.csv\")\n",
        "test  = pd.read_csv(\"./input/test.csv\")"
      ],
      "execution_count": 168,
      "outputs": []
    },
    {
      "cell_type": "markdown",
      "metadata": {
        "colab_type": "text",
        "id": "djs2sUOWbiA-"
      },
      "source": [
        "(4) What is the key difference between the train and the test?"
      ]
    },
    {
      "cell_type": "code",
      "metadata": {
        "colab_type": "code",
        "id": "9kqVcP-7biA-",
        "colab": {}
      },
      "source": [
        "man4=\"\"\"\n",
        "The training file contains a record of whether the data survived, while the test file does not, so the test file allows us to train the machine to predict whether the data will survive.\n",
        "\n",
        "\"\"\""
      ],
      "execution_count": 169,
      "outputs": []
    },
    {
      "cell_type": "markdown",
      "metadata": {
        "colab_type": "text",
        "id": "anLIL5fTbiBA"
      },
      "source": [
        "(5) Create a new column `family` that is equal to the `SibSp` * `Parch` for both the train and the test dataframes.  DON'T use a `for` loop. \n"
      ]
    },
    {
      "cell_type": "code",
      "metadata": {
        "colab_type": "code",
        "id": "Q7j4F61AbiBB",
        "colab": {}
      },
      "source": [
        "#Answer \n",
        "\n",
        "train['family']=train['SibSp']*train['Parch']\n",
        "test['family']=test['SibSp']*test['Parch']\n",
        "\n",
        "\n"
      ],
      "execution_count": 170,
      "outputs": []
    },
    {
      "cell_type": "code",
      "metadata": {
        "colab_type": "code",
        "id": "lrzDBkWUbiBD",
        "colab": {
          "base_uri": "https://localhost:8080/",
          "height": 46
        },
        "outputId": "5dc8ec95-c339-43b0-91eb-d55a9e13f9b4"
      },
      "source": [
        "grader.check('q05')"
      ],
      "execution_count": 171,
      "outputs": [
        {
          "output_type": "execute_result",
          "data": {
            "text/html": [
              "\n",
              "    \n",
              "    \n",
              "        <p>All tests passed!</p>\n",
              "    \n",
              "    "
            ],
            "text/plain": [
              "\n",
              "    All tests passed!\n",
              "    "
            ]
          },
          "metadata": {
            "tags": []
          },
          "execution_count": 171
        }
      ]
    },
    {
      "cell_type": "markdown",
      "metadata": {
        "colab_type": "text",
        "id": "g5jaVVvybiBF"
      },
      "source": [
        "\n",
        "(6). While we can submit our answer to Kaggle to see how it will perform, we can also utilize our training data to assess accuracy. Accuracy is the percentage of predictions made correctly-i.e., the percentage of people in which our prediction regarding their survival is correct. In other words, accuracy = (#correct predictions)/(Total # of predictions). Create a function `generate_accuracy` which accepts two Pandas series objects (`predicted`, `actual`) and returns the accuracy.  \n",
        "\n",
        "For example, when a and b are two different Pandas Series: \n",
        "`generate_accuracy(predicted, actual)`\n",
        "\n",
        "For the sample data below, the data should retun `50.0` (i.e., a percentage).\n",
        "\n"
      ]
    },
    {
      "cell_type": "code",
      "metadata": {
        "colab_type": "code",
        "id": "FvXAq_TjbiBG",
        "colab": {
          "base_uri": "https://localhost:8080/",
          "height": 173
        },
        "outputId": "4b6aa195-c076-418b-9738-e934f1bd8a46"
      },
      "source": [
        "#Example DATA\n",
        "import pandas as pd\n",
        "ex = [{'predicted': 1, 'actual': 1},\n",
        "         {'predicted': 1,  'actual': 0},\n",
        "         {'predicted': 0,  'actual': 1},\n",
        "         {'predicted': 0,  'actual': 0} ]\n",
        "\n",
        "df = pd.DataFrame(ex)\n",
        "df"
      ],
      "execution_count": 172,
      "outputs": [
        {
          "output_type": "execute_result",
          "data": {
            "text/html": [
              "<div>\n",
              "<style scoped>\n",
              "    .dataframe tbody tr th:only-of-type {\n",
              "        vertical-align: middle;\n",
              "    }\n",
              "\n",
              "    .dataframe tbody tr th {\n",
              "        vertical-align: top;\n",
              "    }\n",
              "\n",
              "    .dataframe thead th {\n",
              "        text-align: right;\n",
              "    }\n",
              "</style>\n",
              "<table border=\"1\" class=\"dataframe\">\n",
              "  <thead>\n",
              "    <tr style=\"text-align: right;\">\n",
              "      <th></th>\n",
              "      <th>predicted</th>\n",
              "      <th>actual</th>\n",
              "    </tr>\n",
              "  </thead>\n",
              "  <tbody>\n",
              "    <tr>\n",
              "      <th>0</th>\n",
              "      <td>1</td>\n",
              "      <td>1</td>\n",
              "    </tr>\n",
              "    <tr>\n",
              "      <th>1</th>\n",
              "      <td>1</td>\n",
              "      <td>0</td>\n",
              "    </tr>\n",
              "    <tr>\n",
              "      <th>2</th>\n",
              "      <td>0</td>\n",
              "      <td>1</td>\n",
              "    </tr>\n",
              "    <tr>\n",
              "      <th>3</th>\n",
              "      <td>0</td>\n",
              "      <td>0</td>\n",
              "    </tr>\n",
              "  </tbody>\n",
              "</table>\n",
              "</div>"
            ],
            "text/plain": [
              "   predicted  actual\n",
              "0          1       1\n",
              "1          1       0\n",
              "2          0       1\n",
              "3          0       0"
            ]
          },
          "metadata": {
            "tags": []
          },
          "execution_count": 172
        }
      ]
    },
    {
      "cell_type": "code",
      "metadata": {
        "colab_type": "code",
        "id": "ou4dAw_UbiBH",
        "colab": {}
      },
      "source": [
        "#Answer\n",
        "def generate_accuracy(predicted,actual):\n",
        "   ssize = predicted.size\n",
        "   right = 0\n",
        "   for i in range(0,ssize):\n",
        "     if predicted[i] == actual[i]:\n",
        "       right+=1\n",
        "   return (right/ssize)*100\n",
        "  \n"
      ],
      "execution_count": 173,
      "outputs": []
    },
    {
      "cell_type": "code",
      "metadata": {
        "colab_type": "code",
        "id": "cD_ea-GcbiBK",
        "colab": {
          "base_uri": "https://localhost:8080/",
          "height": 46
        },
        "outputId": "999d777d-c86f-4aa3-95cd-e3d5b337aa94"
      },
      "source": [
        "grader.check('q06')"
      ],
      "execution_count": 174,
      "outputs": [
        {
          "output_type": "execute_result",
          "data": {
            "text/html": [
              "\n",
              "    \n",
              "    \n",
              "        <p>All tests passed!</p>\n",
              "    \n",
              "    "
            ],
            "text/plain": [
              "\n",
              "    All tests passed!\n",
              "    "
            ]
          },
          "metadata": {
            "tags": []
          },
          "execution_count": 174
        }
      ]
    },
    {
      "cell_type": "markdown",
      "metadata": {
        "colab_type": "text",
        "id": "L0GTY_EcbiBN"
      },
      "source": [
        "(7) Create a column `PredEveryoneDies` which is equal to 0 for everyone in both training and testing datasets. "
      ]
    },
    {
      "cell_type": "code",
      "metadata": {
        "colab_type": "code",
        "id": "dlWR17fEbiBN",
        "colab": {}
      },
      "source": [
        "#Answer\n",
        "train['PredEveryoneDies'] = 0\n",
        "test['PredEveryoneDies'] = 0"
      ],
      "execution_count": 175,
      "outputs": []
    },
    {
      "cell_type": "code",
      "metadata": {
        "colab_type": "code",
        "id": "v1FV-k1hbiBP",
        "colab": {
          "base_uri": "https://localhost:8080/",
          "height": 46
        },
        "outputId": "cdb4ffe7-11e5-438b-e52b-9d92c854aebd"
      },
      "source": [
        "grader.check('q07')"
      ],
      "execution_count": 176,
      "outputs": [
        {
          "output_type": "execute_result",
          "data": {
            "text/html": [
              "\n",
              "    \n",
              "    \n",
              "        <p>All tests passed!</p>\n",
              "    \n",
              "    "
            ],
            "text/plain": [
              "\n",
              "    All tests passed!\n",
              "    "
            ]
          },
          "metadata": {
            "tags": []
          },
          "execution_count": 176
        }
      ]
    },
    {
      "cell_type": "markdown",
      "metadata": {
        "colab_type": "text",
        "id": "51O0IxAbbiBS"
      },
      "source": [
        "(8) Find the accuracy of `PredEveryoneDies` in predicting `Survived` using the function `generate_accuracy` that you created earlier and assign it to the `AccEveryoneDies` variable. "
      ]
    },
    {
      "cell_type": "code",
      "metadata": {
        "colab_type": "code",
        "id": "sZ_S3mZ0biBS",
        "colab": {}
      },
      "source": [
        "# Answer\n",
        "AccEveryoneDies = generate_accuracy(train.PredEveryoneDies,train.Survived)"
      ],
      "execution_count": 177,
      "outputs": []
    },
    {
      "cell_type": "code",
      "metadata": {
        "colab_type": "code",
        "id": "rs1ZieiWbiBZ",
        "colab": {
          "base_uri": "https://localhost:8080/",
          "height": 46
        },
        "outputId": "d1630ac8-50e6-428b-807a-9467d5a4b758"
      },
      "source": [
        "grader.check('q08')"
      ],
      "execution_count": 178,
      "outputs": [
        {
          "output_type": "execute_result",
          "data": {
            "text/html": [
              "\n",
              "    \n",
              "    \n",
              "        <p>All tests passed!</p>\n",
              "    \n",
              "    "
            ],
            "text/plain": [
              "\n",
              "    All tests passed!\n",
              "    "
            ]
          },
          "metadata": {
            "tags": []
          },
          "execution_count": 178
        }
      ]
    },
    {
      "cell_type": "markdown",
      "metadata": {
        "colab_type": "text",
        "id": "2VJPRTrCbiBb"
      },
      "source": [
        "(9) In both the training and testing datasets, create the column `PredGender` that is 1 -- if the person is a woman and 0 -- if the person is a man. (This is based on the \"women and children first\" law of shipwrecks).  Then set `AccGender` to the accuracy of the `PredGender` in the Train dataset.\n"
      ]
    },
    {
      "cell_type": "code",
      "metadata": {
        "colab_type": "code",
        "id": "YQPXJQ8bbiBb",
        "colab": {}
      },
      "source": [
        "#Answer\n",
        "train.loc[train['Sex'] == 'male', 'PredGender'] = 0\n",
        "train.loc[train['Sex'] == 'female', 'PredGender'] = 1\n",
        "test.loc[test['Sex'] == 'male', 'PredGender'] = 0\n",
        "test.loc[test['Sex'] == 'female', 'PredGender'] = 1\n",
        "AccGender = generate_accuracy(train.PredGender,train.Survived)\n"
      ],
      "execution_count": 179,
      "outputs": []
    },
    {
      "cell_type": "code",
      "metadata": {
        "colab_type": "code",
        "id": "LYA7qFwEbiBe",
        "colab": {
          "base_uri": "https://localhost:8080/",
          "height": 46
        },
        "outputId": "c372b13e-ccb7-4783-ee4c-972c16191e3f"
      },
      "source": [
        "grader.check('q09')"
      ],
      "execution_count": 180,
      "outputs": [
        {
          "output_type": "execute_result",
          "data": {
            "text/html": [
              "\n",
              "    \n",
              "    \n",
              "        <p>All tests passed!</p>\n",
              "    \n",
              "    "
            ],
            "text/plain": [
              "\n",
              "    All tests passed!\n",
              "    "
            ]
          },
          "metadata": {
            "tags": []
          },
          "execution_count": 180
        }
      ]
    },
    {
      "cell_type": "markdown",
      "metadata": {
        "colab_type": "text",
        "id": "DJ_IGh2ubiBh"
      },
      "source": [
        "(10). Create a `generate_submission` function that accepts a DataFrame, a target column, and a filename (`df`, `target`, `filename`) and writes out the submission file with just the `passengerID` and the `Survived` columns, where the `Survived` column is equal to the target column.\n",
        "\n",
        "For example:\n",
        "`submitdie = generate_submission(train, 'PredEveryoneDies', 'submiteveryonedies.csv')`\n",
        "\n",
        "Should return a dataframe with just `passengerID` and the `Survived` column.  \n",
        "\n",
        "**Make sure your submission file prediction for Survived is an integer and not at float. If you submit a float it may not work.**\n"
      ]
    },
    {
      "cell_type": "code",
      "metadata": {
        "colab_type": "code",
        "id": "F4vp7SOwbiBi",
        "colab": {}
      },
      "source": [
        "#Answer\n",
        "def generate_submission(df, target, filename):\n",
        "  submission = df.loc[:,['PassengerId', 'Survived']]\n",
        "  submission.to_csv('filename.csv', index=False)\n",
        "  return submission"
      ],
      "execution_count": 181,
      "outputs": []
    },
    {
      "cell_type": "code",
      "metadata": {
        "colab_type": "code",
        "id": "fLk5RV8JbiBk",
        "colab": {
          "base_uri": "https://localhost:8080/",
          "height": 46
        },
        "outputId": "f48f9bc6-f829-4793-b13c-06d38e3943c4"
      },
      "source": [
        "grader.check('q10')"
      ],
      "execution_count": 182,
      "outputs": [
        {
          "output_type": "execute_result",
          "data": {
            "text/html": [
              "\n",
              "    \n",
              "    \n",
              "        <p>All tests passed!</p>\n",
              "    \n",
              "    "
            ],
            "text/plain": [
              "\n",
              "    All tests passed!\n",
              "    "
            ]
          },
          "metadata": {
            "tags": []
          },
          "execution_count": 182
        }
      ]
    },
    {
      "cell_type": "markdown",
      "metadata": {
        "colab_type": "text",
        "id": "hJd-vOiZbiBm"
      },
      "source": [
        "(11).  To use the [women and children first](https://en.wikipedia.org/wiki/Women_and_children_first) protocol, we will need to use the age field. This has some missing values. We are going to replace null values in the train and test set with the median value for each.  \n",
        "\n",
        "\n",
        "For this particular question: \n",
        "\n",
        "Set the variables `AgeMissingTrain` and `AgeMissingTest` using the count of the number of missing values in the train and test sets, respectively.\n",
        "\n",
        "Set the variable `AgeMedianTrain` and `AgeMedianTest` using the median age of the train and test sets, respectively. "
      ]
    },
    {
      "cell_type": "code",
      "metadata": {
        "colab_type": "code",
        "id": "aFyw0ZeSbiBm",
        "colab": {}
      },
      "source": [
        "#Answer\n",
        "AgeMissingTrain = train.Age.isnull().sum()\n",
        "AgeMissingTest = test.Age.isnull().sum()\n",
        "AgeMedianTrain = train.Age.median()"
      ],
      "execution_count": 183,
      "outputs": []
    },
    {
      "cell_type": "code",
      "metadata": {
        "colab_type": "code",
        "id": "bR36brWDbiBo",
        "colab": {
          "base_uri": "https://localhost:8080/",
          "height": 46
        },
        "outputId": "e699a1a9-36bc-4e90-c971-e889ddda10dc"
      },
      "source": [
        "grader.check('q11')"
      ],
      "execution_count": 184,
      "outputs": [
        {
          "output_type": "execute_result",
          "data": {
            "text/html": [
              "\n",
              "    \n",
              "    \n",
              "        <p>All tests passed!</p>\n",
              "    \n",
              "    "
            ],
            "text/plain": [
              "\n",
              "    All tests passed!\n",
              "    "
            ]
          },
          "metadata": {
            "tags": []
          },
          "execution_count": 184
        }
      ]
    },
    {
      "cell_type": "markdown",
      "metadata": {
        "colab_type": "text",
        "id": "o8F0wyrEbiBq"
      },
      "source": [
        "(12) For rows in which the age value is  missing, set the age to the appropriate median value for the train/test set. "
      ]
    },
    {
      "cell_type": "code",
      "metadata": {
        "colab_type": "code",
        "id": "319cK3sNbiBq",
        "colab": {}
      },
      "source": [
        "#Answer\n",
        "train.Age = train.Age.fillna(AgeMedianTrain)\n",
        "test.Age = test.Age.fillna(AgeMedianTest)"
      ],
      "execution_count": 185,
      "outputs": []
    },
    {
      "cell_type": "code",
      "metadata": {
        "colab_type": "code",
        "id": "VIWAu76wbiBw",
        "colab": {
          "base_uri": "https://localhost:8080/",
          "height": 46
        },
        "outputId": "80b99ba5-2b20-4a33-c56f-cb3d3f4dc993"
      },
      "source": [
        "grader.check('q12')"
      ],
      "execution_count": 186,
      "outputs": [
        {
          "output_type": "execute_result",
          "data": {
            "text/html": [
              "\n",
              "    \n",
              "    \n",
              "        <p>All tests passed!</p>\n",
              "    \n",
              "    "
            ],
            "text/plain": [
              "\n",
              "    All tests passed!\n",
              "    "
            ]
          },
          "metadata": {
            "tags": []
          },
          "execution_count": 186
        }
      ]
    },
    {
      "cell_type": "markdown",
      "metadata": {
        "colab_type": "text",
        "id": "4WYb1qQ6biBy"
      },
      "source": [
        "\n",
        "(13). In our initial calculation of the `PredGender` column, we made our prediction based on whether the individual was male or female.  In accordance to the [women and children first](https://en.wikipedia.org/wiki/Women_and_children_first) protocol, we hypothesize that our model could be improved by including whether the individual was a child in addition to gender. We also have a question, what age to use to determine \"child\"? (People weren't likely to check for IDs.)  We will check 2 ages...<13 and <18 (somewhat arbitrary but have to start somewhere) and see which yields a better accuracy. <br>\n",
        "\n",
        "<br> \n",
        "\n",
        "Specifically, create 2 predictions as follows:\n",
        "\n",
        "`train['PredGenderAge13']` should be the prediction incorporating both Gender (women survive) and Age (Children Age<13 survived while Age>=13 died)  <br>\n",
        "`train['PredGenderAge18']` should be the prediction incorporating both Gender (women survive) and Age (Children Age<18 survived while Age>=18 died)  <br>\n",
        "\n",
        "*The analysis assumes that you have addressed missing values in the earlier step and you should do it for both the train and test dataframes*"
      ]
    },
    {
      "cell_type": "code",
      "metadata": {
        "colab_type": "code",
        "id": "Z_RXLnoXbiBz",
        "colab": {}
      },
      "source": [
        "#Answer\n",
        "train.loc[train['Sex'] == 'male', 'PredGenderAge13'] = 0\n",
        "train.loc[train['Age'] < 13, 'PredGenderAge13'] = 1\n",
        "train.loc[train['Sex'] == 'female', 'PredGenderAge13'] = 1\n",
        "test.loc[test['Sex'] == 'male', 'PredGenderAge13'] = 0\n",
        "test.loc[test['Age'] < 13, 'PredGenderAge13'] = 1\n",
        "test.loc[test['Sex'] == 'female', 'PredGenderAge13'] = 1\n",
        "\n",
        "train.loc[train['Sex'] == 'male', 'PredGenderAge18'] = 0\n",
        "train.loc[train['Age'] < 18, 'PredGenderAge18'] = 1\n",
        "train.loc[train['Sex'] == 'female', 'PredGenderAge18'] = 1\n",
        "test.loc[test['Sex'] == 'male', 'PredGenderAge18'] = 0\n",
        "test.loc[test['Age'] < 18, 'PredGenderAge18'] = 1\n",
        "test.loc[test['Sex'] == 'female', 'PredGenderAge18'] = 1\n",
        "\n"
      ],
      "execution_count": 187,
      "outputs": []
    },
    {
      "cell_type": "code",
      "metadata": {
        "colab_type": "code",
        "id": "bg1Fep69biB1",
        "colab": {
          "base_uri": "https://localhost:8080/",
          "height": 46
        },
        "outputId": "5568cbb9-90d7-4d16-90a9-949a42cf9338"
      },
      "source": [
        "grader.check('q13')"
      ],
      "execution_count": 188,
      "outputs": [
        {
          "output_type": "execute_result",
          "data": {
            "text/html": [
              "\n",
              "    \n",
              "    \n",
              "        <p>All tests passed!</p>\n",
              "    \n",
              "    "
            ],
            "text/plain": [
              "\n",
              "    All tests passed!\n",
              "    "
            ]
          },
          "metadata": {
            "tags": []
          },
          "execution_count": 188
        }
      ]
    },
    {
      "cell_type": "markdown",
      "metadata": {
        "colab_type": "text",
        "id": "FYkYiEckbiB3"
      },
      "source": [
        "(14). Calculate the accuracy for your new predictions.  Use `PredGenderAge13` in the training set to calculate `AccGenderAge13` (you can use your function again!) and `PredGenderAge18` to calcuate `AccGenderAge18`. "
      ]
    },
    {
      "cell_type": "code",
      "metadata": {
        "colab_type": "code",
        "id": "udYOXsOxbiB3",
        "colab": {}
      },
      "source": [
        "#Answer\n",
        "AccGenderAge13 = generate_accuracy(train.PredGenderAge13,train.Survived)\n",
        "AccGenderAge18 = generate_accuracy(train.PredGenderAge18,train.Survived)"
      ],
      "execution_count": 189,
      "outputs": []
    },
    {
      "cell_type": "code",
      "metadata": {
        "colab_type": "code",
        "id": "y5mSZcrTbiB5",
        "colab": {
          "base_uri": "https://localhost:8080/",
          "height": 46
        },
        "outputId": "179252a3-06c5-4243-c8a0-1f0eee3eb903"
      },
      "source": [
        "grader.check('q14')"
      ],
      "execution_count": 190,
      "outputs": [
        {
          "output_type": "execute_result",
          "data": {
            "text/html": [
              "\n",
              "    \n",
              "    \n",
              "        <p>All tests passed!</p>\n",
              "    \n",
              "    "
            ],
            "text/plain": [
              "\n",
              "    All tests passed!\n",
              "    "
            ]
          },
          "metadata": {
            "tags": []
          },
          "execution_count": 190
        }
      ]
    },
    {
      "cell_type": "markdown",
      "metadata": {
        "colab_type": "text",
        "id": "X_ZLsCx5biCA"
      },
      "source": [
        "(15). You should find that the accuracy is higher when using 13 as a designation for a child than 18. What does this tell you about the role of age in surviving a shipwreck? "
      ]
    },
    {
      "cell_type": "code",
      "metadata": {
        "colab_type": "code",
        "id": "8_GkUNYcbiCB",
        "colab": {}
      },
      "source": [
        "\n",
        "man15=\"\"\"\n",
        "People are more likely to give their lifeboats to younger children, giving them a higher chance of survival.\n",
        "\"\"\""
      ],
      "execution_count": 191,
      "outputs": []
    },
    {
      "cell_type": "markdown",
      "metadata": {
        "colab_type": "text",
        "id": "5QoaQ9hQbiCD"
      },
      "source": [
        "(16) Create a prediction file for the \"women and children first\" model in using the test dataset and upload it to Kaggle. Go through the process of uploading it to Kaggle. Put your Kaggle username so we can verify your prediction occued. \n",
        "\n",
        "**Make sure your submission file prediction is an integer and not at float. If you submit a float it may not work.**"
      ]
    },
    {
      "cell_type": "code",
      "metadata": {
        "colab_type": "code",
        "id": "KFSWJLZYbiCD",
        "colab": {
          "base_uri": "https://localhost:8080/",
          "height": 35
        },
        "outputId": "8f522ae3-9681-49df-e111-ece0b5ee24f8"
      },
      "source": [
        "test.to_csv('women_and_children_first.csv', index=False)\n",
        "from google.colab import files\n",
        "files.download('women_and_children_first.csv')\n",
        "kaggle_username=\"Chenywei\"\n",
        "man15=\"https://www.kaggle.com/\"+\"Chenywei\"+\"/competitions\"\n",
        "#This gives a link to your competition page\n",
        "man15"
      ],
      "execution_count": 192,
      "outputs": [
        {
          "output_type": "display_data",
          "data": {
            "application/javascript": [
              "\n",
              "    async function download(id, filename, size) {\n",
              "      if (!google.colab.kernel.accessAllowed) {\n",
              "        return;\n",
              "      }\n",
              "      const div = document.createElement('div');\n",
              "      const label = document.createElement('label');\n",
              "      label.textContent = `Downloading \"${filename}\": `;\n",
              "      div.appendChild(label);\n",
              "      const progress = document.createElement('progress');\n",
              "      progress.max = size;\n",
              "      div.appendChild(progress);\n",
              "      document.body.appendChild(div);\n",
              "\n",
              "      const buffers = [];\n",
              "      let downloaded = 0;\n",
              "\n",
              "      const channel = await google.colab.kernel.comms.open(id);\n",
              "      // Send a message to notify the kernel that we're ready.\n",
              "      channel.send({})\n",
              "\n",
              "      for await (const message of channel.messages) {\n",
              "        // Send a message to notify the kernel that we're ready.\n",
              "        channel.send({})\n",
              "        if (message.buffers) {\n",
              "          for (const buffer of message.buffers) {\n",
              "            buffers.push(buffer);\n",
              "            downloaded += buffer.byteLength;\n",
              "            progress.value = downloaded;\n",
              "          }\n",
              "        }\n",
              "      }\n",
              "      const blob = new Blob(buffers, {type: 'application/binary'});\n",
              "      const a = document.createElement('a');\n",
              "      a.href = window.URL.createObjectURL(blob);\n",
              "      a.download = filename;\n",
              "      div.appendChild(a);\n",
              "      a.click();\n",
              "      div.remove();\n",
              "    }\n",
              "  "
            ],
            "text/plain": [
              "<IPython.core.display.Javascript object>"
            ]
          },
          "metadata": {
            "tags": []
          }
        },
        {
          "output_type": "display_data",
          "data": {
            "application/javascript": [
              "download(\"download_498d2936-a9dd-43d5-819b-3beba8ac60d3\", \"women_and_children_first.csv\", 36072)"
            ],
            "text/plain": [
              "<IPython.core.display.Javascript object>"
            ]
          },
          "metadata": {
            "tags": []
          }
        },
        {
          "output_type": "execute_result",
          "data": {
            "application/vnd.google.colaboratory.intrinsic+json": {
              "type": "string"
            },
            "text/plain": [
              "'https://www.kaggle.com/Chenywei/competitions'"
            ]
          },
          "metadata": {
            "tags": []
          },
          "execution_count": 192
        }
      ]
    }
  ]
}